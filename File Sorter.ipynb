{
 "cells": [
  {
   "cell_type": "code",
   "execution_count": null,
   "id": "86ef39b9-61e5-42e6-a998-71f5bffefbc8",
   "metadata": {},
   "outputs": [],
   "source": [
    "Automatic File Sorter in File Explorer"
   ]
  },
  {
   "cell_type": "code",
   "execution_count": 1,
   "id": "28aef2ff-c6b3-470f-8505-a8531359fdc8",
   "metadata": {},
   "outputs": [],
   "source": [
    "import os, shutil"
   ]
  },
  {
   "cell_type": "code",
   "execution_count": 12,
   "id": "c04e5611-5ff2-4e08-8126-00c04c52e594",
   "metadata": {},
   "outputs": [],
   "source": [
    "path = r\"/Users/niladreeb/Documents/MyPythonTutorial/\""
   ]
  },
  {
   "cell_type": "code",
   "execution_count": 20,
   "id": "9e37bc74-3c41-49fd-aac1-3aa9fe8e182c",
   "metadata": {},
   "outputs": [],
   "source": [
    "file_name = os.listdir(path)"
   ]
  },
  {
   "cell_type": "code",
   "execution_count": 39,
   "id": "8697f835-b956-4876-b037-8c557c039e05",
   "metadata": {},
   "outputs": [],
   "source": [
    "folder_names =['csv files','image files','text files']\n",
    "\n",
    "for loop in range(0,3):\n",
    "    if not os.path.exists(path + folder_names[loop]):\n",
    "         #print(path + folder_names[loop])\n",
    "         os.makedirs(path + folder_names[loop])\n",
    "\n",
    "for file in file_name:\n",
    "    if \".csv\" in file and not os.path.exists(path+\"csv files/\"+ file):\n",
    "        shutil.move(path+file,path+ \"csv files/\" + file)\n",
    "    elif \".png\" in file and not os.path.exists(path+\"image files/\"+ file):\n",
    "        shutil.move(path+file,path+ \"image files/\" + file)\n",
    "    elif \".docx\" in file and not os.path.exists(path+\"text files/\"+ file):\n",
    "        shutil.move(path+file,path+ \"text files/\" + file)\n",
    "   "
   ]
  },
  {
   "cell_type": "code",
   "execution_count": null,
   "id": "d2b784ec-7dc3-4922-8ad1-ac4ff95bbfa0",
   "metadata": {},
   "outputs": [],
   "source": []
  },
  {
   "cell_type": "code",
   "execution_count": null,
   "id": "fbe25477-fc7a-4b98-bda0-1299d612cc1a",
   "metadata": {},
   "outputs": [],
   "source": []
  },
  {
   "cell_type": "code",
   "execution_count": null,
   "id": "656107e0-8f76-451c-85dc-0c271bdd0e99",
   "metadata": {},
   "outputs": [],
   "source": []
  },
  {
   "cell_type": "code",
   "execution_count": null,
   "id": "d4cbb70a-902e-4295-a79b-5f081e058d24",
   "metadata": {},
   "outputs": [],
   "source": []
  },
  {
   "cell_type": "code",
   "execution_count": null,
   "id": "9a1f923c-3998-4bb3-b065-599f62d9d2a1",
   "metadata": {},
   "outputs": [],
   "source": []
  },
  {
   "cell_type": "code",
   "execution_count": null,
   "id": "f161b8c4-edc7-46b5-909d-c054c8fc02e7",
   "metadata": {},
   "outputs": [],
   "source": []
  },
  {
   "cell_type": "code",
   "execution_count": null,
   "id": "22a3e7d5-b8a0-4e51-9949-59d566afd0e4",
   "metadata": {},
   "outputs": [],
   "source": []
  },
  {
   "cell_type": "code",
   "execution_count": null,
   "id": "16156881-95e6-498e-83d6-8c49a26f515e",
   "metadata": {},
   "outputs": [],
   "source": []
  },
  {
   "cell_type": "code",
   "execution_count": null,
   "id": "7b22be6e-7488-43d7-80c5-35b56494e549",
   "metadata": {},
   "outputs": [],
   "source": []
  },
  {
   "cell_type": "code",
   "execution_count": null,
   "id": "6baea3b4-238b-4e71-81fd-b171cc09fa62",
   "metadata": {},
   "outputs": [],
   "source": []
  },
  {
   "cell_type": "code",
   "execution_count": null,
   "id": "6cf8df14-f937-4ede-9cbe-2eaa87ae91a3",
   "metadata": {},
   "outputs": [],
   "source": []
  }
 ],
 "metadata": {
  "kernelspec": {
   "display_name": "Python 3 (ipykernel)",
   "language": "python",
   "name": "python3"
  },
  "language_info": {
   "codemirror_mode": {
    "name": "ipython",
    "version": 3
   },
   "file_extension": ".py",
   "mimetype": "text/x-python",
   "name": "python",
   "nbconvert_exporter": "python",
   "pygments_lexer": "ipython3",
   "version": "3.11.9"
  }
 },
 "nbformat": 4,
 "nbformat_minor": 5
}
