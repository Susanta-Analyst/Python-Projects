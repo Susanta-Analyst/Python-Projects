{
 "cells": [
  {
   "cell_type": "code",
   "execution_count": 29,
   "id": "8f8e5cb5-2250-44e7-8171-c93513932ad6",
   "metadata": {},
   "outputs": [
    {
     "name": "stdin",
     "output_type": "stream",
     "text": [
      "Enter your name:  Amit Bhandari\n",
      "Enter your weight in pounds:  202\n",
      "Enter yor height in inches: 68\n"
     ]
    },
    {
     "name": "stdout",
     "output_type": "stream",
     "text": [
      "30.710640138408305\n",
      "Amit Bhandari,You are Overweight. Need to exercise and cut down on junk foods.\n"
     ]
    }
   ],
   "source": [
    "Name = input(\"Enter your name: \")\n",
    "\n",
    "Weight = int(input (\"Enter your weight in pounds: \"))\n",
    "\n",
    "Height = int(input (\"Enter yor height in inches:\"))\n",
    "\n",
    "BMI =(Weight * 703) /(Height * Height) \n",
    "\n",
    "print(BMI) \n",
    "\n",
    "if BMI>0:\n",
    "    if(BMI<=18.4):\n",
    "        print (Name + \",You are Underweight.Need to follow proper diet\")\n",
    "    elif(BMI<24.9):\n",
    "        print (Name + \",You are within normal range.\")\n",
    "    elif(BMI<39.9):\n",
    "        print (Name+\",You are Overweight. Need to exercise and cut down on junk foods.\")\n",
    "    elif(BMI>39.9):\n",
    "        print (Name+\",You are Obese. Need to consult a doctor for detecting the root cause and act accordingly.\")\n",
    "else:\n",
    "        print(\"Enter valid input:\")\n",
    "\n",
    "  "
   ]
  },
  {
   "cell_type": "code",
   "execution_count": null,
   "id": "46da0a68-a2db-4386-b7e2-cd33dcb6b419",
   "metadata": {},
   "outputs": [],
   "source": [
    "# In metric units: BMI = weight (lb) ÷ height2 (inches) * 703\n"
   ]
  },
  {
   "cell_type": "code",
   "execution_count": null,
   "id": "59d4c22b-6eb2-4aa5-870e-40ff04da5865",
   "metadata": {},
   "outputs": [],
   "source": [
    "BMI\tStatus\n",
    "≤ 18.4\tUnderweight\n",
    "18.5 - 24.9\tNormal\n",
    "25.0 - 39.9\tOverweight\n",
    "≥ 40.0\tObese"
   ]
  },
  {
   "cell_type": "code",
   "execution_count": null,
   "id": "1af54838-e1d9-48ed-851e-77cfc0cd5600",
   "metadata": {},
   "outputs": [],
   "source": []
  },
  {
   "cell_type": "code",
   "execution_count": null,
   "id": "20d8b472-e746-4ca2-8eb0-7b805c4a2bc7",
   "metadata": {},
   "outputs": [],
   "source": []
  },
  {
   "cell_type": "code",
   "execution_count": null,
   "id": "e75ef759-357a-487a-bd81-2f8fc0852115",
   "metadata": {},
   "outputs": [],
   "source": []
  },
  {
   "cell_type": "code",
   "execution_count": null,
   "id": "a715eeea-7a0a-435e-b026-d7c88383e637",
   "metadata": {},
   "outputs": [],
   "source": []
  }
 ],
 "metadata": {
  "kernelspec": {
   "display_name": "Python 3 (ipykernel)",
   "language": "python",
   "name": "python3"
  },
  "language_info": {
   "codemirror_mode": {
    "name": "ipython",
    "version": 3
   },
   "file_extension": ".py",
   "mimetype": "text/x-python",
   "name": "python",
   "nbconvert_exporter": "python",
   "pygments_lexer": "ipython3",
   "version": "3.11.9"
  }
 },
 "nbformat": 4,
 "nbformat_minor": 5
}
