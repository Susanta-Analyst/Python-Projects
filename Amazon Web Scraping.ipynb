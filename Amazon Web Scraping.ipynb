{
 "cells": [
  {
   "cell_type": "code",
   "execution_count": 26,
   "id": "a63d3b62-7733-4c38-840b-9d93be351008",
   "metadata": {},
   "outputs": [],
   "source": [
    "#  import libraries\n",
    "\n",
    "from bs4 import BeautifulSoup\n",
    "import requests\n",
    "import time\n",
    "import datetime\n",
    "import smtplib\n"
   ]
  },
  {
   "cell_type": "code",
   "execution_count": 27,
   "id": "a8dd15ea-5de9-4562-99d8-5cbbcd95de03",
   "metadata": {
    "scrolled": true
   },
   "outputs": [
    {
     "name": "stdout",
     "output_type": "stream",
     "text": [
      "\n",
      "                    Got Data Shirt Got Data T Shirt Data Analyst Shirt Funny T-Shirt\n",
      "                   \n",
      "\n",
      "                    £17.49\n",
      "                   \n"
     ]
    }
   ],
   "source": [
    "# Connect to website\n",
    "\n",
    "# headers = { Go to httpbin.org/get /  After that,copy the User-Agent Link}\n",
    "\n",
    "url = 'https://www.amazon.co.uk/Data-Shirt-Analyst-Funny-T-Shirt/dp/B0BMGSTPGM'\n",
    "\n",
    "headers = ({ \"User-Agent\": \"Mozilla/5.0 (Macintosh; Intel Mac OS X 10_15_7) AppleWebKit/537.36 (KHTML, like Gecko) Chrome/124.0.0.0 Safari/537.36\", \"Accept-Language\":\"en-GB,en;q=0.5\"})\n",
    "\n",
    "page = requests.get(url,headers = headers)\n",
    "\n",
    "soup1 = BeautifulSoup(page.content, \"html.parser\")\n",
    "\n",
    "soup2 = BeautifulSoup(soup1.prettify(),\"html.parser\")\n",
    "\n",
    "title = soup2.find(id=\"productTitle\").get_text()\n",
    "price = soup2.css.select_one(\".aok-offscreen\").get_text()\n",
    "\n",
    "print(title)\n",
    "print(price)\n"
   ]
  },
  {
   "cell_type": "code",
   "execution_count": 28,
   "id": "a1639e6d-a6d2-4372-a4b4-71b8c3dd5200",
   "metadata": {},
   "outputs": [
    {
     "name": "stdout",
     "output_type": "stream",
     "text": [
      "17.49\n",
      "Got Data Shirt Got Data T Shirt Data Analyst Shirt Funny T-Shirt\n"
     ]
    }
   ],
   "source": [
    "price = price.strip().strip(\"£\")\n",
    "title = title.strip()\n",
    "\n",
    "print(price)\n",
    "print(title)"
   ]
  },
  {
   "cell_type": "code",
   "execution_count": 29,
   "id": "166b2de7-d6b8-41a0-8854-a7e6c4a18935",
   "metadata": {},
   "outputs": [
    {
     "name": "stdout",
     "output_type": "stream",
     "text": [
      "2024-05-08 12:10:54.998007\n"
     ]
    }
   ],
   "source": [
    "today = datetime.datetime.now()\n",
    "print(today)"
   ]
  },
  {
   "cell_type": "code",
   "execution_count": 30,
   "id": "d07aaec2-dc53-4219-8990-3dc48d1212fc",
   "metadata": {},
   "outputs": [],
   "source": [
    "import csv\n",
    "\n",
    "header = ['Title', 'Price', 'Date']\n",
    "data = [title, price, today]\n",
    "\n",
    "# Writing data into the csv using mode = w\n",
    "with open('AmazonWebScraperDataset.csv','w',newline='',encoding='UTF8') as f:\n",
    "    writer=csv.writer(f)\n",
    "    writer.writerow(header)\n",
    "    writer.writerow(data)\n"
   ]
  },
  {
   "cell_type": "code",
   "execution_count": 31,
   "id": "2ffa9bdb-f70a-4c7d-a651-f5b8b824428d",
   "metadata": {},
   "outputs": [],
   "source": [
    "# Reading data from the csv using mode = r"
   ]
  },
  {
   "cell_type": "code",
   "execution_count": 45,
   "id": "f917085c-3823-43e9-b732-4a5b52df7e30",
   "metadata": {},
   "outputs": [
    {
     "name": "stdout",
     "output_type": "stream",
     "text": [
      "['Title', 'Price', 'Date']\n",
      "['Got Data Shirt Got Data T Shirt Data Analyst Shirt Funny T-Shirt', '17.49', '2024-05-08 12:22:41.902956']\n",
      "['Got Data Shirt Got Data T Shirt Data Analyst Shirt Funny T-Shirt', '17.49', '2024-05-08 12:22:46.100911']\n",
      "['Got Data Shirt Got Data T Shirt Data Analyst Shirt Funny T-Shirt', '17.49', '2024-05-08 12:22:49.871995']\n",
      "['Got Data Shirt Got Data T Shirt Data Analyst Shirt Funny T-Shirt', '17.49', '2024-05-08 12:22:53.672725']\n",
      "['Got Data Shirt Got Data T Shirt Data Analyst Shirt Funny T-Shirt', '17.49', '2024-05-08 12:22:57.525186']\n"
     ]
    }
   ],
   "source": [
    "import csv\n",
    "with open('AmazonWebScraperDataset.csv','r',newline='',encoding='UTF8') as file:\n",
    "    read = csv.reader(file)\n",
    "    for row in read:\n",
    "        print(row)"
   ]
  },
  {
   "cell_type": "code",
   "execution_count": 33,
   "id": "6c401b68-1b81-49a8-a73f-08cbc0502088",
   "metadata": {},
   "outputs": [],
   "source": [
    "# Reading data from the csv can also be done using panda"
   ]
  },
  {
   "cell_type": "code",
   "execution_count": 44,
   "id": "33549723-1052-46a0-842e-e81c9d1efc70",
   "metadata": {},
   "outputs": [
    {
     "name": "stdout",
     "output_type": "stream",
     "text": [
      "                                                              Title  Price                        Date\n",
      "0  Got Data Shirt Got Data T Shirt Data Analyst Shirt Funny T-Shirt  17.49  2024-05-08 12:22:41.902956\n",
      "1  Got Data Shirt Got Data T Shirt Data Analyst Shirt Funny T-Shirt  17.49  2024-05-08 12:22:46.100911\n",
      "2  Got Data Shirt Got Data T Shirt Data Analyst Shirt Funny T-Shirt  17.49  2024-05-08 12:22:49.871995\n",
      "3  Got Data Shirt Got Data T Shirt Data Analyst Shirt Funny T-Shirt  17.49  2024-05-08 12:22:53.672725\n",
      "4  Got Data Shirt Got Data T Shirt Data Analyst Shirt Funny T-Shirt  17.49  2024-05-08 12:22:57.525186\n"
     ]
    }
   ],
   "source": [
    "import pandas as pd\n",
    "\n",
    "df = pd.read_csv(r'/Users/niladreeb/Documents/MyPythonTutorial/AmazonWebScraperDataset.csv')\n",
    "\n",
    "print(df.to_string())\n",
    "\n",
    "# For repitation of the results, the Appending Data syntax need to be run at first and then this syntax"
   ]
  },
  {
   "cell_type": "code",
   "execution_count": 35,
   "id": "1836a3c0-1f51-4444-ad96-27bfe729063a",
   "metadata": {},
   "outputs": [],
   "source": [
    "# Appending data to the csv using mode = a+"
   ]
  },
  {
   "cell_type": "code",
   "execution_count": 36,
   "id": "01fadd23-89cb-4c61-baf5-c2747fa27304",
   "metadata": {},
   "outputs": [],
   "source": [
    "with open('AmazonWebScraperDataset.csv','a+',newline='',encoding='UTF8') as f:\n",
    "    writer=csv.writer(f)\n",
    "    writer.writerow(data)"
   ]
  },
  {
   "cell_type": "code",
   "execution_count": null,
   "id": "965151bb-46f5-42a6-b649-38ec35bfb726",
   "metadata": {},
   "outputs": [],
   "source": []
  },
  {
   "cell_type": "code",
   "execution_count": 37,
   "id": "13abd35b-4dd0-4050-866d-d37adc9ee663",
   "metadata": {},
   "outputs": [],
   "source": [
    "# SMTP server function to send email\n",
    "def send_mail():\n",
    "    import smtplib\n",
    "    \n",
    "    server = smtplib.SMTP_SSL('smtp.gmail.com',465)\n",
    "    server.ehlo()\n",
    "    server.login('johndoe@gmail.com','xxyyzz')\n",
    "    subject = \"Python project automatic email\"\n",
    "    body = \"The amazon product price is below £20, the email works\"\n",
    "    msg = f\"Subject: {subject}\\n\\n{body}\"\n",
    "    server.sendmail('johndoe@gmail.com','johndoe@gmail.com', msg.encode(\"utf-8\"))"
   ]
  },
  {
   "cell_type": "code",
   "execution_count": 42,
   "id": "02de22b4-f3c3-4622-91fc-fb451bbc26e2",
   "metadata": {},
   "outputs": [],
   "source": [
    "# Entire python codes stated above have been compiled into a function to scrape few details about the specific Amazon Product and write it into a csv file\n",
    "\n",
    "def check_price():\n",
    "\n",
    "    from bs4 import BeautifulSoup\n",
    "    import requests\n",
    "    import datetime\n",
    "    \n",
    "    url = 'https://www.amazon.co.uk/Data-Shirt-Analyst-Funny-T-Shirt/dp/B0BMGSTPGM'\n",
    "\n",
    "    headers = ({ \"User-Agent\": \"Mozilla/5.0 (Macintosh; Intel Mac OS X 10_15_7) AppleWebKit/537.36 (KHTML, like Gecko) Chrome/124.0.0.0 Safari/537.36\", \"Accept-Language\":\"en-GB,en;q=0.5\"})\n",
    "\n",
    "    page = requests.get(url,headers = headers)\n",
    "\n",
    "    soup1 = BeautifulSoup(page.content, \"html.parser\")\n",
    "\n",
    "    soup2 = BeautifulSoup(soup1.prettify(),\"html.parser\")\n",
    "\n",
    "    title = soup2.find(id=\"productTitle\").get_text()\n",
    "    price = soup2.css.select_one(\".aok-offscreen\").get_text()\n",
    "\n",
    "    price = price.strip().strip(\"£\")\n",
    "    title = title.strip()\n",
    "    \n",
    "    import datetime\n",
    "    today = datetime.datetime.now()\n",
    "\n",
    "    import csv\n",
    "\n",
    "    header = ['Title','Price','Date']\n",
    "    data = [title,price,today]\n",
    "\n",
    "\n",
    "    with open('AmazonWebScraperDataset.csv','a+',newline='',encoding='UTF8') as f:\n",
    "        writer=csv.writer(f)\n",
    "        writer.writerow(data)\n",
    "\n",
    "    if(float(price)<20):\n",
    "        send_mail()\n",
    "\n",
    "    print(today)\n",
    "    print(title)\n",
    "    print(price)"
   ]
  },
  {
   "cell_type": "code",
   "execution_count": null,
   "id": "25b25c61-5382-4d92-be8e-2f28d4fac3f1",
   "metadata": {},
   "outputs": [],
   "source": [
    "import time\n",
    "\n",
    "# check price every 12 hours i.e. 43200 seconds\n",
    "while(True):\n",
    "    check_price()\n",
    "    time.sleep(43200)"
   ]
  },
  {
   "cell_type": "code",
   "execution_count": null,
   "id": "daf60bdb-e1ff-42e6-be01-706f46f39bbb",
   "metadata": {},
   "outputs": [],
   "source": []
  },
  {
   "cell_type": "code",
   "execution_count": null,
   "id": "ee995f91-79c7-4f28-95f4-9f5b20f2d189",
   "metadata": {},
   "outputs": [],
   "source": []
  },
  {
   "cell_type": "code",
   "execution_count": null,
   "id": "b4fe176e-2eaf-4db4-b504-1cbe818deb93",
   "metadata": {},
   "outputs": [],
   "source": []
  },
  {
   "cell_type": "code",
   "execution_count": null,
   "id": "5837d163-b917-4feb-9503-fbb564a77a76",
   "metadata": {},
   "outputs": [],
   "source": []
  },
  {
   "cell_type": "code",
   "execution_count": null,
   "id": "96bfd740-ba97-44c2-97c6-b04657ea0be3",
   "metadata": {},
   "outputs": [],
   "source": []
  }
 ],
 "metadata": {
  "kernelspec": {
   "display_name": "Python 3 (ipykernel)",
   "language": "python",
   "name": "python3"
  },
  "language_info": {
   "codemirror_mode": {
    "name": "ipython",
    "version": 3
   },
   "file_extension": ".py",
   "mimetype": "text/x-python",
   "name": "python",
   "nbconvert_exporter": "python",
   "pygments_lexer": "ipython3",
   "version": "3.11.9"
  }
 },
 "nbformat": 4,
 "nbformat_minor": 5
}
